{
  "nbformat": 4,
  "nbformat_minor": 0,
  "metadata": {
    "colab": {
      "provenance": [],
      "authorship_tag": "ABX9TyN2HBh/uNv1syqTtuRf5NmA",
      "include_colab_link": true
    },
    "kernelspec": {
      "name": "python3",
      "display_name": "Python 3"
    },
    "language_info": {
      "name": "python"
    }
  },
  "cells": [
    {
      "cell_type": "markdown",
      "metadata": {
        "id": "view-in-github",
        "colab_type": "text"
      },
      "source": [
        "<a href=\"https://colab.research.google.com/github/kurianshaji17-create/numpy/blob/main/numpy.ipynb\" target=\"_parent\"><img src=\"https://colab.research.google.com/assets/colab-badge.svg\" alt=\"Open In Colab\"/></a>"
      ]
    },
    {
      "cell_type": "code",
      "source": [
        "import numpy as np #numerical python\n",
        "\n",
        "#array collection of data with same datatype (homogenious)\n",
        "\n",
        "a=np.array([1,2,3,4])\n",
        "a"
      ],
      "metadata": {
        "colab": {
          "base_uri": "https://localhost:8080/"
        },
        "id": "7ABGHXFVFp-h",
        "outputId": "44a20426-6dc6-4a0e-bcec-a542b272c610"
      },
      "execution_count": null,
      "outputs": [
        {
          "output_type": "execute_result",
          "data": {
            "text/plain": [
              "array([1, 2, 3, 4])"
            ]
          },
          "metadata": {},
          "execution_count": 1
        }
      ]
    },
    {
      "cell_type": "code",
      "execution_count": null,
      "metadata": {
        "colab": {
          "base_uri": "https://localhost:8080/"
        },
        "id": "a6Df3eUUFXvq",
        "outputId": "fbf53932-d064-484d-ffc2-17622819b128"
      },
      "outputs": [
        {
          "output_type": "stream",
          "name": "stdout",
          "text": [
            "['1' '2' '3' '4' 'a']\n"
          ]
        }
      ],
      "source": [
        "import numpy as np #numerical python\n",
        "\n",
        "#array collection of data with same datatype (homogenious)\n",
        "\n",
        "a=np.array([1,2,3,4,\"a\"])\n",
        "print(a)\n"
      ]
    },
    {
      "cell_type": "code",
      "source": [
        "#slicing forward and backward slicing\n",
        "\n",
        "b=np.array([1,2,3,4,5])\n",
        "\n",
        "#print 1,2\n",
        "#print 5,4\n",
        "#print 4,5\n",
        "#print 2,1\n"
      ],
      "metadata": {
        "id": "TF4VaJkXHRun"
      },
      "execution_count": null,
      "outputs": []
    },
    {
      "cell_type": "code",
      "source": [
        "#slicing forward slicing backward slicing\n",
        "\n",
        "b=np.array([1,2,3,4,5])\n",
        "#print[1 2]\n",
        "print(b[0:2])\n",
        "#print[4 5]\n",
        "print(b[3:5])\n",
        "#print[2 1]\n",
        "print(b[1::-1])\n",
        "#print[5 4]\n",
        "print(b[-1:-3:-1])"
      ],
      "metadata": {
        "id": "NpCaz8mrKVkF"
      },
      "execution_count": null,
      "outputs": []
    },
    {
      "cell_type": "code",
      "source": [
        "#dimension\n",
        "a=np.array([0,2,3,4,5])\n",
        "b=np.array([[1,2],[3,4],[5,6]])\n",
        "\n",
        "a.ndim #dimension=1 vector\n",
        "\n",
        "b.ndim #dimension=2 matrix\n",
        "print(a)\n",
        "print(b)\n",
        "\n",
        "b.shape"
      ],
      "metadata": {
        "id": "8cp6DnMDLde3"
      },
      "execution_count": null,
      "outputs": []
    },
    {
      "cell_type": "code",
      "source": [
        "#create a 2x2 matrix [2,3],[4,5]\n",
        "\n",
        "d=np.array([[2,3],[4,5]])\n",
        "print(d)\n",
        "print(d.shape)\n",
        "print(d.ndim) #dimention\n",
        "print(d.size)"
      ],
      "metadata": {
        "id": "vntFv6BgLhcf"
      },
      "execution_count": null,
      "outputs": []
    },
    {
      "cell_type": "code",
      "source": [
        "#create a 2x3 matrix and print ,size,shape ,dimension\n",
        "d=np.array([[2,3,4],[5,6,7]])\n",
        "print(d)\n",
        "print(d.size)\n",
        "print(d.shape)\n",
        "print(d.ndim)"
      ],
      "metadata": {
        "id": "cd0CwXHfLliN"
      },
      "execution_count": null,
      "outputs": []
    },
    {
      "cell_type": "code",
      "source": [
        "#create 4x2 matrix display its size shape and dimension\n",
        "\n",
        "d=np.array([[1,2],[3,4],[5,6],[7,8]])\n",
        "print(d.size)\n",
        "print(d.shape)\n",
        "print(d.ndim)\n",
        "print(d)"
      ],
      "metadata": {
        "colab": {
          "base_uri": "https://localhost:8080/"
        },
        "id": "c3yyfvkvMdJZ",
        "outputId": "a31e5161-f5ee-4ca7-cedf-f9fbae823e9f"
      },
      "execution_count": null,
      "outputs": [
        {
          "output_type": "stream",
          "name": "stdout",
          "text": [
            "8\n",
            "(4, 2)\n",
            "2\n",
            "[[1 2]\n",
            " [3 4]\n",
            " [5 6]\n",
            " [7 8]]\n"
          ]
        }
      ]
    },
    {
      "cell_type": "code",
      "source": [
        "#create 4x4 matrix display its size shape and dimension\n",
        "\n",
        "import numpy as np\n",
        "\n",
        "d=np.array([[1,2,3,4],[3,4,6,7],[5,6,8,6],[7,8,6,4]])\n",
        "print(d.size)\n",
        "print(d.shape)\n",
        "print(d.ndim)\n",
        "print(d)"
      ],
      "metadata": {
        "colab": {
          "base_uri": "https://localhost:8080/"
        },
        "id": "zNmk7ZHvNUbO",
        "outputId": "5b6a5390-ae88-447a-f7ca-63609aeb8584"
      },
      "execution_count": null,
      "outputs": [
        {
          "output_type": "stream",
          "name": "stdout",
          "text": [
            "16\n",
            "(4, 4)\n",
            "2\n",
            "[[1 2 3 4]\n",
            " [3 4 6 7]\n",
            " [5 6 8 6]\n",
            " [7 8 6 4]]\n"
          ]
        }
      ]
    },
    {
      "cell_type": "markdown",
      "source": [
        "19-09-25\n"
      ],
      "metadata": {
        "id": "Iloc_sBFF9nO"
      }
    },
    {
      "cell_type": "code",
      "source": [
        "d [0]\n",
        "d[:,0]\n",
        "d[1,1]\n",
        "d[2,2]\n",
        "d[3,2:]\n",
        "d[2:,2:]"
      ],
      "metadata": {
        "colab": {
          "base_uri": "https://localhost:8080/"
        },
        "id": "UQWPByuPFvH5",
        "outputId": "ed227f69-d0e7-488d-9ea4-ea363c48346b"
      },
      "execution_count": null,
      "outputs": [
        {
          "output_type": "execute_result",
          "data": {
            "text/plain": [
              "array([[8, 6],\n",
              "       [6, 4]])"
            ]
          },
          "metadata": {},
          "execution_count": 9
        }
      ]
    },
    {
      "cell_type": "code",
      "source": [
        "#zero matrix\n",
        "\n",
        "z=np.zeros([3,3,3])\n",
        "z"
      ],
      "metadata": {
        "colab": {
          "base_uri": "https://localhost:8080/"
        },
        "id": "ezj_K8FyJqZL",
        "outputId": "f9f809c1-d477-4337-f947-82535a335032"
      },
      "execution_count": null,
      "outputs": [
        {
          "output_type": "execute_result",
          "data": {
            "text/plain": [
              "array([[[0., 0., 0.],\n",
              "        [0., 0., 0.],\n",
              "        [0., 0., 0.]],\n",
              "\n",
              "       [[0., 0., 0.],\n",
              "        [0., 0., 0.],\n",
              "        [0., 0., 0.]],\n",
              "\n",
              "       [[0., 0., 0.],\n",
              "        [0., 0., 0.],\n",
              "        [0., 0., 0.]]])"
            ]
          },
          "metadata": {},
          "execution_count": 11
        }
      ]
    },
    {
      "cell_type": "code",
      "source": [
        "#create two 2x2 matrix\n",
        "\n",
        "a=np.array([[1,2],[3,4]])\n",
        "b=np.array([[3,1],[6,7]])\n",
        "print(a)\n",
        "print(b)"
      ],
      "metadata": {
        "colab": {
          "base_uri": "https://localhost:8080/"
        },
        "id": "-u2v_JVTLbCP",
        "outputId": "bfe0267e-e5b7-4c6d-eb84-6e22c677079c"
      },
      "execution_count": null,
      "outputs": [
        {
          "output_type": "stream",
          "name": "stdout",
          "text": [
            "[[1 2]\n",
            " [3 4]]\n",
            "[[3 1]\n",
            " [6 7]]\n"
          ]
        }
      ]
    },
    {
      "cell_type": "code",
      "source": [
        "#matrix addition\n",
        "print(a+b)\n",
        "\n",
        "#matrix substraction\n",
        "print(a-b)\n",
        "\n",
        "#matrix multiplication\n",
        "print(a*b)"
      ],
      "metadata": {
        "colab": {
          "base_uri": "https://localhost:8080/"
        },
        "id": "I2UXr72lL0t2",
        "outputId": "48cf871d-38d0-4dcb-d619-4553bba90407"
      },
      "execution_count": null,
      "outputs": [
        {
          "output_type": "stream",
          "name": "stdout",
          "text": [
            "[[ 4  3]\n",
            " [ 9 11]]\n",
            "[[-2  1]\n",
            " [-3 -3]]\n",
            "[[ 3  2]\n",
            " [18 28]]\n"
          ]
        }
      ]
    },
    {
      "cell_type": "code",
      "source": [
        "#full matrix\n",
        "\n",
        "z=np.full([3,3],5,dtype=int)\n",
        "z"
      ],
      "metadata": {
        "colab": {
          "base_uri": "https://localhost:8080/"
        },
        "id": "qceWO26kN-HV",
        "outputId": "b9ebc72a-e887-49a1-d726-038867cadf29"
      },
      "execution_count": null,
      "outputs": [
        {
          "output_type": "execute_result",
          "data": {
            "text/plain": [
              "array([[5, 5, 5],\n",
              "       [5, 5, 5],\n",
              "       [5, 5, 5]])"
            ]
          },
          "metadata": {},
          "execution_count": 14
        }
      ]
    },
    {
      "cell_type": "code",
      "source": [
        "#identity matrix\n",
        "\n",
        "z=np.identity(3,dtype=int)\n",
        "z\n",
        "z=np.eye(3)\n",
        "z"
      ],
      "metadata": {
        "colab": {
          "base_uri": "https://localhost:8080/"
        },
        "id": "YNjMPbgfQFSO",
        "outputId": "ea25b74a-1327-4829-aa5c-e7241bf67259"
      },
      "execution_count": null,
      "outputs": [
        {
          "output_type": "execute_result",
          "data": {
            "text/plain": [
              "array([[1., 0., 0.],\n",
              "       [0., 1., 0.],\n",
              "       [0., 0., 1.]])"
            ]
          },
          "metadata": {},
          "execution_count": 15
        }
      ]
    },
    {
      "cell_type": "code",
      "source": [
        "#create a 4x4 matrix\n",
        "\n",
        "y=np.array([[1,2,3,4],[5,6,7,8],[9,10,11,12,],[13,14,15,16]])\n",
        "print(y)\n",
        "print(y.size)\n"
      ],
      "metadata": {
        "colab": {
          "base_uri": "https://localhost:8080/"
        },
        "id": "_eEPsdrpQrqy",
        "outputId": "31638f35-d835-4e25-d59a-cc040f9aed32"
      },
      "execution_count": null,
      "outputs": [
        {
          "output_type": "stream",
          "name": "stdout",
          "text": [
            "[[ 1  2  3  4]\n",
            " [ 5  6  7  8]\n",
            " [ 9 10 11 12]\n",
            " [13 14 15 16]]\n",
            "16\n"
          ]
        }
      ]
    },
    {
      "cell_type": "code",
      "source": [
        "a=y.reshape(16,1)\n",
        "print(a)"
      ],
      "metadata": {
        "colab": {
          "base_uri": "https://localhost:8080/"
        },
        "id": "RoQ9HfVkSB68",
        "outputId": "337430f3-0eb2-4c16-b16b-1fe474c14861"
      },
      "execution_count": null,
      "outputs": [
        {
          "output_type": "stream",
          "name": "stdout",
          "text": [
            "[[ 1]\n",
            " [ 2]\n",
            " [ 3]\n",
            " [ 4]\n",
            " [ 5]\n",
            " [ 6]\n",
            " [ 7]\n",
            " [ 8]\n",
            " [ 9]\n",
            " [10]\n",
            " [11]\n",
            " [12]\n",
            " [13]\n",
            " [14]\n",
            " [15]\n",
            " [16]]\n"
          ]
        }
      ]
    },
    {
      "cell_type": "code",
      "source": [
        "#create 8x2 matrix\n",
        "a=np.array([[1,2,3,4,5,6,7,8],[1,2,3,4,5,6,7,8]])\n",
        "print(a)"
      ],
      "metadata": {
        "colab": {
          "base_uri": "https://localhost:8080/"
        },
        "id": "BPZ8DlQgSMoN",
        "outputId": "157915cf-8017-46ea-9f05-5a0ed0ecb7fe"
      },
      "execution_count": null,
      "outputs": [
        {
          "output_type": "stream",
          "name": "stdout",
          "text": [
            "[[1 2 3 4 5 6 7 8]\n",
            " [1 2 3 4 5 6 7 8]]\n"
          ]
        }
      ]
    },
    {
      "cell_type": "code",
      "source": [
        "#arange\n",
        "a=np.arange(1,10,2)\n",
        "a"
      ],
      "metadata": {
        "colab": {
          "base_uri": "https://localhost:8080/"
        },
        "id": "ynujr7OySjnw",
        "outputId": "d971178b-a829-450f-f86a-5c3f14c81a15"
      },
      "execution_count": null,
      "outputs": [
        {
          "output_type": "execute_result",
          "data": {
            "text/plain": [
              "array([1, 3, 5, 7, 9])"
            ]
          },
          "metadata": {},
          "execution_count": 25
        }
      ]
    },
    {
      "cell_type": "code",
      "source": [
        "#create a 5x2 matrix using arange\n",
        "z=np.arange(1,11).reshape(5,2)\n",
        "z"
      ],
      "metadata": {
        "colab": {
          "base_uri": "https://localhost:8080/"
        },
        "id": "unk58SpuS5J1",
        "outputId": "0631350a-954d-4bb4-f5d8-1e3d75108fea"
      },
      "execution_count": null,
      "outputs": [
        {
          "output_type": "execute_result",
          "data": {
            "text/plain": [
              "array([[ 1,  2],\n",
              "       [ 3,  4],\n",
              "       [ 5,  6],\n",
              "       [ 7,  8],\n",
              "       [ 9, 10]])"
            ]
          },
          "metadata": {},
          "execution_count": 26
        }
      ]
    },
    {
      "cell_type": "code",
      "source": [
        "#floor\n",
        "z=np.floor(a)\n",
        "z"
      ],
      "metadata": {
        "colab": {
          "base_uri": "https://localhost:8080/"
        },
        "id": "R3Jomzm8XHpr",
        "outputId": "7c672356-20b6-426d-b862-3db12b5d3ce2"
      },
      "execution_count": null,
      "outputs": [
        {
          "output_type": "execute_result",
          "data": {
            "text/plain": [
              "array([1., 3., 5., 7., 9.])"
            ]
          },
          "metadata": {},
          "execution_count": 29
        }
      ]
    },
    {
      "cell_type": "code",
      "source": [
        "#ceil\n",
        "z=np.ceil(a)\n",
        "z\n"
      ],
      "metadata": {
        "colab": {
          "base_uri": "https://localhost:8080/"
        },
        "id": "o7Lji0SfXOX1",
        "outputId": "60062d7e-fc2f-4130-a040-df7d209e3aa8"
      },
      "execution_count": null,
      "outputs": [
        {
          "output_type": "execute_result",
          "data": {
            "text/plain": [
              "array([1., 3., 5., 7., 9.])"
            ]
          },
          "metadata": {},
          "execution_count": 30
        }
      ]
    },
    {
      "cell_type": "code",
      "source": [
        "#round\n",
        "z=np.round(a)\n",
        "z"
      ],
      "metadata": {
        "colab": {
          "base_uri": "https://localhost:8080/"
        },
        "id": "NmRATQmRXW5n",
        "outputId": "123e4ab7-c6c9-4f69-e681-58b477ac3192"
      },
      "execution_count": null,
      "outputs": [
        {
          "output_type": "execute_result",
          "data": {
            "text/plain": [
              "array([1, 3, 5, 7, 9])"
            ]
          },
          "metadata": {},
          "execution_count": 31
        }
      ]
    },
    {
      "cell_type": "code",
      "source": [
        "#create a 3x3 matrix\n",
        "a=np.arange(1,10).reshape(3,3)\n",
        "print(a)\n",
        "print(a.max())#to find the maximum element in the entire metrix\n",
        "print(a.max(axis=1))#to find the maximum element in the row\n",
        "print(a.max(axis=0))#to find the maximum element in the coloumn\n"
      ],
      "metadata": {
        "colab": {
          "base_uri": "https://localhost:8080/"
        },
        "id": "EO2PvDwiXebv",
        "outputId": "dcb7e748-d838-4baa-eeff-a64cd045c0d3"
      },
      "execution_count": null,
      "outputs": [
        {
          "output_type": "stream",
          "name": "stdout",
          "text": [
            "[[1 2 3]\n",
            " [4 5 6]\n",
            " [7 8 9]]\n",
            "9\n",
            "[3 6 9]\n",
            "[7 8 9]\n"
          ]
        }
      ]
    },
    {
      "cell_type": "code",
      "source": [
        " #sum\n",
        "\n",
        "\n",
        " #print(p)\n",
        " #print(p.sum())\n",
        " #print(p.sum(axis=1))    #to find sum of each row\n",
        " #print(p.sum(axis=0))    #to find sum of each coloumn\n",
        "\n",
        "\n",
        "#print(np.sqrt(p))        #to get squareroot\n",
        "#print(np.sin(p))         #to get the sin\n",
        "#print(np.cos(p))\n",
        " print(np.tan(p))"
      ],
      "metadata": {
        "colab": {
          "base_uri": "https://localhost:8080/"
        },
        "id": "ZTManzlAjErx",
        "outputId": "d9aac706-22bb-410e-8b37-5ff8ee23b42a"
      },
      "execution_count": 3,
      "outputs": [
        {
          "output_type": "stream",
          "name": "stdout",
          "text": [
            "[[ 1.55740772 -2.18503986 -0.14254654]\n",
            " [ 1.15782128 -3.38051501 -0.29100619]\n",
            " [ 0.87144798 -6.79971146 -0.45231566]]\n"
          ]
        }
      ]
    },
    {
      "cell_type": "code",
      "source": [
        " #sum\n",
        "\n",
        "import numpy as np\n",
        "s=np.array(([3,4,1],[5,3,1],[6,9,8]))\n",
        " #print(p)\n",
        " #print(p.sum())\n",
        " #print(p.sum(axis=1))    #to find sum of each row\n",
        " #print(p.sum(axis=0))    #to find sum of each coloumn\n",
        "\n",
        "\n",
        "#print(np.sqrt(p))        #to get squareroot\n",
        "#print(np.sin(p))         #to get the sin\n",
        "#print(np.cos(p))\n",
        " print(np.tan(p))"
      ],
      "metadata": {
        "colab": {
          "base_uri": "https://localhost:8080/"
        },
        "outputId": "c94ab8e8-7c99-4948-f5ca-c30352547a07",
        "id": "drC6KOqrl-T2"
      },
      "execution_count": 4,
      "outputs": [
        {
          "output_type": "stream",
          "name": "stdout",
          "text": [
            "[[ 1.55740772 -2.18503986 -0.14254654]\n",
            " [ 1.15782128 -3.38051501 -0.29100619]\n",
            " [ 0.87144798 -6.79971146 -0.45231566]]\n"
          ]
        }
      ]
    },
    {
      "cell_type": "code",
      "source": [
        "#FLATTEN\n",
        "\n",
        "#create 3x3 matrix\n",
        "\n",
        "import numpy as np\n",
        "s=np.array(([3,4,1],[5,3,1],[6,9,8]))\n",
        "#print(s)\n",
        "#b=np.sort(s,axis=0)     #metod used for sorting\n",
        "b=np.sort(s,axis=1)      #used to sort the row\n",
        "print(b)\n",
        "\n"
      ],
      "metadata": {
        "colab": {
          "base_uri": "https://localhost:8080/"
        },
        "id": "0qSAy_m5lh7T",
        "outputId": "1da6aeaf-2897-482e-8ba6-34675b98359d"
      },
      "execution_count": 7,
      "outputs": [
        {
          "output_type": "stream",
          "name": "stdout",
          "text": [
            "[[1 3 4]\n",
            " [1 3 5]\n",
            " [6 8 9]]\n"
          ]
        }
      ]
    },
    {
      "cell_type": "code",
      "source": [
        "#SORT\n",
        "\n",
        "#create 3x3 matrix\n",
        "\n",
        "import numpy as np\n",
        "s=np.array(([3,4,1],[5,3,1],[6,9,8]))\n",
        "#print(s)\n",
        "#b=np.sort(s,axis=0)    #method used for sorting in the coloumn\n",
        "#b=np.sort(s,axis=1)    #used to sort the row\n",
        "#print=b\n",
        "\n",
        "#AR sorting\n",
        "\n",
        "c=np.argsort(s,axis=1)    #sorting on the basis of indexing no. in the o/p we get the matrix and index no.\n",
        "print(c)"
      ],
      "metadata": {
        "colab": {
          "base_uri": "https://localhost:8080/"
        },
        "id": "L0aQcKvCm4HU",
        "outputId": "ba635ab8-f8be-43d4-8616-5a9a774029d4"
      },
      "execution_count": 9,
      "outputs": [
        {
          "output_type": "stream",
          "name": "stdout",
          "text": [
            "[[2 0 1]\n",
            " [2 1 0]\n",
            " [0 2 1]]\n"
          ]
        }
      ]
    }
  ]
}